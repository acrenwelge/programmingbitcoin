{
 "cells": [
  {
   "cell_type": "code",
   "execution_count": 1,
   "metadata": {},
   "outputs": [],
   "source": [
    "############## PLEASE RUN THIS CELL FIRST! ###################\n",
    "\n",
    "# import everything and define a test runner function\n",
    "from importlib import reload\n",
    "from helper import run\n",
    "import bloomfilter\n",
    "import block\n",
    "import ecc\n",
    "import helper\n",
    "import merkleblock\n",
    "import network\n",
    "import script\n",
    "import tx"
   ]
  },
  {
   "cell_type": "code",
   "execution_count": 2,
   "metadata": {},
   "outputs": [
    {
     "name": "stdout",
     "output_type": "stream",
     "text": [
      "[0, 0, 0, 0, 0, 0, 0, 0, 0, 1]\n"
     ]
    }
   ],
   "source": [
    "from helper import hash256\n",
    "bit_field_size = 10\n",
    "bit_field = [0] * bit_field_size\n",
    "h = hash256(b'hello world')\n",
    "bit = int.from_bytes(h, 'big') % bit_field_size\n",
    "bit_field[bit] = 1\n",
    "print(bit_field)"
   ]
  },
  {
   "cell_type": "code",
   "execution_count": 3,
   "metadata": {},
   "outputs": [
    {
     "name": "stdout",
     "output_type": "stream",
     "text": [
      "[0, 0, 1, 0, 0, 0, 0, 0, 0, 1]\n"
     ]
    }
   ],
   "source": [
    "from helper import hash256\n",
    "bit_field_size = 10\n",
    "bit_field = [0] * bit_field_size\n",
    "for item in (b'hello world', b'goodbye'):\n",
    "    h = hash256(item)\n",
    "    bit = int.from_bytes(h, 'big') % bit_field_size\n",
    "    bit_field[bit] = 1\n",
    "print(bit_field)"
   ]
  },
  {
   "cell_type": "markdown",
   "metadata": {},
   "source": [
    "### Exercise 1\n",
    "\n",
    "Calculate the Bloom Filter for 'hello world' and 'goodbye' using the `hash160` hash function over a bit field of 10."
   ]
  },
  {
   "cell_type": "code",
   "execution_count": 9,
   "metadata": {},
   "outputs": [
    {
     "name": "stdout",
     "output_type": "stream",
     "text": [
      "[1, 1, 1, 0, 0, 0, 0, 0, 0, 0]\n"
     ]
    }
   ],
   "source": [
    "# Exercise 1\n",
    "\n",
    "from helper import hash160\n",
    "\n",
    "bit_field_size = 10\n",
    "bit_field = [0] * bit_field_size\n",
    "items = (b'hello world', b'goodbye',b'bitcoin',b'werdna')\n",
    "# loop through each item\n",
    "for item in items:\n",
    "    # hash160 the item\n",
    "    h = hash160(item)\n",
    "    # interpret hash as a Big-Endian integer and mod by bit_field_size\n",
    "    bit = int.from_bytes(h, 'big') % bit_field_size\n",
    "    # set that bit in bit_field to 1\n",
    "    bit_field[bit] = 1\n",
    "# print the bit_field\n",
    "print(bit_field)"
   ]
  },
  {
   "cell_type": "code",
   "execution_count": 10,
   "metadata": {},
   "outputs": [
    {
     "name": "stdout",
     "output_type": "stream",
     "text": [
      "[1, 1, 1, 0, 0, 0, 0, 0, 0, 1]\n"
     ]
    }
   ],
   "source": [
    "from helper import hash256, hash160\n",
    "bit_field_size = 10\n",
    "bit_field = [0] * bit_field_size\n",
    "for item in (b'hello world', b'goodbye'):\n",
    "    for hash_function in (hash256, hash160):\n",
    "        h = hash_function(item)\n",
    "        bit = int.from_bytes(h, 'big') % bit_field_size\n",
    "        bit_field[bit] = 1\n",
    "print(bit_field)"
   ]
  },
  {
   "cell_type": "code",
   "execution_count": 11,
   "metadata": {},
   "outputs": [
    {
     "name": "stdout",
     "output_type": "stream",
     "text": [
      "[0, 0, 0, 0, 0, 1, 1, 0, 0, 1, 1, 0, 0, 0, 0, 0]\n"
     ]
    }
   ],
   "source": [
    "from helper import murmur3\n",
    "from bloomfilter import BIP37_CONSTANT\n",
    "field_size = 2\n",
    "num_functions = 2\n",
    "tweak = 42\n",
    "bit_field_size = field_size * 8\n",
    "bit_field = [0] * bit_field_size\n",
    "for phrase in (b'hello world', b'goodbye'):\n",
    "    for i in range(num_functions):\n",
    "        seed = i * BIP37_CONSTANT + tweak\n",
    "        h = murmur3(phrase, seed=seed)\n",
    "        bit = h % bit_field_size\n",
    "        bit_field[bit] = 1\n",
    "print(bit_field)"
   ]
  },
  {
   "cell_type": "markdown",
   "metadata": {},
   "source": [
    "### Exercise 2\n",
    "\n",
    "Given a Bloom Filter with size=10, function count=5, tweak=99, what are the bytes that are set after adding these items? (use `bit_field_to_bytes` to convert to bytes)\n",
    "\n",
    "* `b'Hello World'`\n",
    "* `b'Goodbye!'`"
   ]
  },
  {
   "cell_type": "code",
   "execution_count": 15,
   "metadata": {},
   "outputs": [
    {
     "name": "stdout",
     "output_type": "stream",
     "text": [
      "4000600a080000010940\n"
     ]
    }
   ],
   "source": [
    "# Exercise 2\n",
    "\n",
    "from bloomfilter import BloomFilter, BIP37_CONSTANT\n",
    "from helper import bit_field_to_bytes, murmur3\n",
    "\n",
    "field_size = 10\n",
    "function_count = 5\n",
    "tweak = 99\n",
    "items = (b'Hello World',  b'Goodbye!')\n",
    "# calculate the bitfield size\n",
    "bitfield_size = field_size * 8\n",
    "# create an empty bit field\n",
    "bitfield = [0] * bitfield_size\n",
    "# loop through items\n",
    "for item in items:\n",
    "    # loop through function count\n",
    "    for i in range(function_count):\n",
    "        # calculate the seed\n",
    "        seed = i * BIP37_CONSTANT + tweak\n",
    "        # get the murmur3 hash of the item using the seed\n",
    "        h = murmur3(item, seed)\n",
    "        # mod by the bitfield size\n",
    "        bit = h % bitfield_size\n",
    "        # set the bit\n",
    "        bitfield[bit] = 1\n",
    "# convert the bit field to bytes\n",
    "bitfieldbytes = bit_field_to_bytes(bitfield)\n",
    "# print the bytes in hex\n",
    "print(bitfieldbytes.hex())"
   ]
  },
  {
   "cell_type": "markdown",
   "metadata": {},
   "source": [
    "### Exercise 3\n",
    "\n",
    "Write the `add` method for `BloomFilter`\n",
    "\n",
    "#### Make [this test](/edit/code-ch12/bloomfilter.py) pass: `bloomfilter.py:BloomFilterTest:test_add`"
   ]
  },
  {
   "cell_type": "code",
   "execution_count": 16,
   "metadata": {},
   "outputs": [
    {
     "name": "stderr",
     "output_type": "stream",
     "text": [
      ".\n",
      "----------------------------------------------------------------------\n",
      "Ran 1 test in 0.001s\n",
      "\n",
      "OK\n"
     ]
    }
   ],
   "source": [
    "# Exercise 3\n",
    "\n",
    "reload(bloomfilter)\n",
    "run(bloomfilter.BloomFilterTest(\"test_add\"))"
   ]
  },
  {
   "cell_type": "markdown",
   "metadata": {},
   "source": [
    "### Exercise 4\n",
    "\n",
    "Write the  `filterload` payload from the `BloomFilter` class.\n",
    "\n",
    "#### Make [this test](/edit/code-ch12/bloomfilter.py) pass: `bloomfilter.py:BloomFilterTest:test_filterload`"
   ]
  },
  {
   "cell_type": "code",
   "execution_count": 17,
   "metadata": {},
   "outputs": [
    {
     "name": "stderr",
     "output_type": "stream",
     "text": [
      ".\n",
      "----------------------------------------------------------------------\n",
      "Ran 1 test in 0.001s\n",
      "\n",
      "OK\n"
     ]
    }
   ],
   "source": [
    "# Exercise 4\n",
    "\n",
    "reload(bloomfilter)\n",
    "run(bloomfilter.BloomFilterTest(\"test_filterload\"))"
   ]
  },
  {
   "cell_type": "markdown",
   "metadata": {},
   "source": [
    "### Exercise 5\n",
    "\n",
    "Write the `serialize` method for the `GetDataMessage` class.\n",
    "\n",
    "#### Make [this test](/edit/code-ch12/network.py) pass: `network.py:GetDataMessageTest:test_serialize`"
   ]
  },
  {
   "cell_type": "code",
   "execution_count": 20,
   "metadata": {},
   "outputs": [
    {
     "name": "stderr",
     "output_type": "stream",
     "text": [
      ".\n",
      "----------------------------------------------------------------------\n",
      "Ran 1 test in 0.001s\n",
      "\n",
      "OK\n"
     ]
    }
   ],
   "source": [
    "# Exercise 5\n",
    "\n",
    "reload(network)\n",
    "run(network.GetDataMessageTest(\"test_serialize\"))"
   ]
  },
  {
   "cell_type": "code",
   "execution_count": null,
   "metadata": {},
   "outputs": [],
   "source": [
    "from bloomfilter import BloomFilter\n",
    "from helper import decode_base58\n",
    "from merkleblock import MerkleBlock\n",
    "from network import FILTERED_BLOCK_DATA_TYPE, GetHeadersMessage, GetDataMessage, HeadersMessage, SimpleNode\n",
    "from tx import Tx\n",
    "last_block_hex = '00000000000538d5c2246336644f9a4956551afb44ba47278759ec55ea912e19'\n",
    "address = 'mwJn1YPMq7y5F8J3LkC5Hxg9PHyZ5K4cFv'\n",
    "h160 = decode_base58(address)\n",
    "node = SimpleNode('testnet.programmingbitcoin.com', testnet=True, logging=False)\n",
    "bf = BloomFilter(size=30, function_count=5, tweak=90210)\n",
    "bf.add(h160)\n",
    "node.handshake()\n",
    "node.send(bf.filterload())\n",
    "start_block = bytes.fromhex(last_block_hex)\n",
    "getheaders = GetHeadersMessage(start_block=start_block)\n",
    "node.send(getheaders)\n",
    "headers = node.wait_for(HeadersMessage)\n",
    "getdata = GetDataMessage()\n",
    "for b in headers.blocks:\n",
    "    if not b.check_pow():\n",
    "        raise RuntimeError('proof of work is invalid')\n",
    "    getdata.add_data(FILTERED_BLOCK_DATA_TYPE, b.hash())\n",
    "node.send(getdata)\n",
    "found = False\n",
    "while not found:\n",
    "    message = node.wait_for(MerkleBlock, Tx)\n",
    "    if message.command == b'merkleblock':\n",
    "        if not message.is_valid():\n",
    "            raise RuntimeError('invalid merkle proof')\n",
    "    else:\n",
    "        for i, tx_out in enumerate(message.tx_outs):\n",
    "            if tx_out.script_pubkey.address(testnet=True) == address:\n",
    "                print('found: {}:{}'.format(message.id(), i))\n",
    "                found = True\n",
    "                break"
   ]
  },
  {
   "cell_type": "markdown",
   "metadata": {},
   "source": [
    "### Exercise 6\n",
    "\n",
    "Get the current testnet block ID, send yourself some testnet coins, find the UTXO corresponding to the testnet coin _without using a block explorer_, create a transaction using that UTXO as an input and broadcast the `tx` message on the  testnet network."
   ]
  },
  {
   "cell_type": "code",
   "execution_count": 22,
   "metadata": {},
   "outputs": [
    {
     "name": "stdout",
     "output_type": "stream",
     "text": [
      "found: 508e8d4270793a492834b3e813f52b927555ccac8b65fe1bc57fa8d6ff7b89ff:1\n",
      "True\n",
      "0100000001ff897bffd6a87fc51bfe658baccc5575922bf513e8b33428493a7970428d8e50010000006b483045022100bff516ed1c1bb6ca77c51028834786e6e21ba8ba3c5be75a130db32e277ae61e02205210f77905549d4ab8c003ecbee56c8cd495db75ff7b8144ea78b9e9ec7234cc012102f84ccc50f407e61ec0088cd6ceca8aa4dbc704033159f49a8f339a7a3c2328baffffffff0188130000000000001976a914ad346f8eb57dee9a37981716e498120ae80e44f788ac00000000\n",
      "transaction sent on the network\n"
     ]
    },
    {
     "ename": "KeyboardInterrupt",
     "evalue": "",
     "output_type": "error",
     "traceback": [
      "\u001b[0;31m---------------------------------------------------------------------------\u001b[0m",
      "\u001b[0;31mKeyboardInterrupt\u001b[0m                         Traceback (most recent call last)",
      "Input \u001b[0;32mIn [22]\u001b[0m, in \u001b[0;36m<cell line: 124>\u001b[0;34m()\u001b[0m\n\u001b[1;32m    122\u001b[0m node\u001b[38;5;241m.\u001b[39msend(getdata)\n\u001b[1;32m    123\u001b[0m \u001b[38;5;66;03m# now wait for a Tx response\u001b[39;00m\n\u001b[0;32m--> 124\u001b[0m received_tx \u001b[38;5;241m=\u001b[39m \u001b[43mnode\u001b[49m\u001b[38;5;241;43m.\u001b[39;49m\u001b[43mwait_for\u001b[49m\u001b[43m(\u001b[49m\u001b[43mTx\u001b[49m\u001b[43m)\u001b[49m\n\u001b[1;32m    125\u001b[0m \u001b[38;5;66;03m# if the received tx has the same id as our tx, we are done!\u001b[39;00m\n\u001b[1;32m    126\u001b[0m \u001b[38;5;28;01mif\u001b[39;00m received_tx\u001b[38;5;241m.\u001b[39mid() \u001b[38;5;241m==\u001b[39m tx_obj\u001b[38;5;241m.\u001b[39mid():\n",
      "File \u001b[0;32m~/Code/programmingbitcoin/code-ch12/network.py:397\u001b[0m, in \u001b[0;36mSimpleNode.wait_for\u001b[0;34m(self, *message_classes)\u001b[0m\n\u001b[1;32m    394\u001b[0m \u001b[38;5;66;03m# loop until the command is in the commands we want\u001b[39;00m\n\u001b[1;32m    395\u001b[0m \u001b[38;5;28;01mwhile\u001b[39;00m command \u001b[38;5;129;01mnot\u001b[39;00m \u001b[38;5;129;01min\u001b[39;00m command_to_class\u001b[38;5;241m.\u001b[39mkeys():\n\u001b[1;32m    396\u001b[0m     \u001b[38;5;66;03m# get the next network message\u001b[39;00m\n\u001b[0;32m--> 397\u001b[0m     envelope \u001b[38;5;241m=\u001b[39m \u001b[38;5;28;43mself\u001b[39;49m\u001b[38;5;241;43m.\u001b[39;49m\u001b[43mread\u001b[49m\u001b[43m(\u001b[49m\u001b[43m)\u001b[49m\n\u001b[1;32m    398\u001b[0m     \u001b[38;5;66;03m# set the command to be evaluated\u001b[39;00m\n\u001b[1;32m    399\u001b[0m     command \u001b[38;5;241m=\u001b[39m envelope\u001b[38;5;241m.\u001b[39mcommand\n",
      "File \u001b[0;32m~/Code/programmingbitcoin/code-ch12/network.py:384\u001b[0m, in \u001b[0;36mSimpleNode.read\u001b[0;34m(self)\u001b[0m\n\u001b[1;32m    382\u001b[0m \u001b[38;5;28;01mdef\u001b[39;00m \u001b[38;5;21mread\u001b[39m(\u001b[38;5;28mself\u001b[39m):\n\u001b[1;32m    383\u001b[0m     \u001b[38;5;124;03m'''Read a message from the socket'''\u001b[39;00m\n\u001b[0;32m--> 384\u001b[0m     envelope \u001b[38;5;241m=\u001b[39m \u001b[43mNetworkEnvelope\u001b[49m\u001b[38;5;241;43m.\u001b[39;49m\u001b[43mparse\u001b[49m\u001b[43m(\u001b[49m\u001b[38;5;28;43mself\u001b[39;49m\u001b[38;5;241;43m.\u001b[39;49m\u001b[43mstream\u001b[49m\u001b[43m,\u001b[49m\u001b[43m \u001b[49m\u001b[43mtestnet\u001b[49m\u001b[38;5;241;43m=\u001b[39;49m\u001b[38;5;28;43mself\u001b[39;49m\u001b[38;5;241;43m.\u001b[39;49m\u001b[43mtestnet\u001b[49m\u001b[43m)\u001b[49m\n\u001b[1;32m    385\u001b[0m     \u001b[38;5;28;01mif\u001b[39;00m \u001b[38;5;28mself\u001b[39m\u001b[38;5;241m.\u001b[39mlogging:\n\u001b[1;32m    386\u001b[0m         \u001b[38;5;28mprint\u001b[39m(\u001b[38;5;124m'\u001b[39m\u001b[38;5;124mreceiving: \u001b[39m\u001b[38;5;132;01m{}\u001b[39;00m\u001b[38;5;124m'\u001b[39m\u001b[38;5;241m.\u001b[39mformat(envelope))\n",
      "File \u001b[0;32m~/Code/programmingbitcoin/code-ch12/network.py:46\u001b[0m, in \u001b[0;36mNetworkEnvelope.parse\u001b[0;34m(cls, s, testnet)\u001b[0m\n\u001b[1;32m     44\u001b[0m \u001b[38;5;124;03m'''Takes a stream and creates a NetworkEnvelope'''\u001b[39;00m\n\u001b[1;32m     45\u001b[0m \u001b[38;5;66;03m# check the network magic\u001b[39;00m\n\u001b[0;32m---> 46\u001b[0m magic \u001b[38;5;241m=\u001b[39m \u001b[43ms\u001b[49m\u001b[38;5;241;43m.\u001b[39;49m\u001b[43mread\u001b[49m\u001b[43m(\u001b[49m\u001b[38;5;241;43m4\u001b[39;49m\u001b[43m)\u001b[49m\n\u001b[1;32m     47\u001b[0m \u001b[38;5;28;01mif\u001b[39;00m magic \u001b[38;5;241m==\u001b[39m \u001b[38;5;124mb\u001b[39m\u001b[38;5;124m'\u001b[39m\u001b[38;5;124m'\u001b[39m:\n\u001b[1;32m     48\u001b[0m     \u001b[38;5;28;01mraise\u001b[39;00m \u001b[38;5;167;01mRuntimeError\u001b[39;00m(\u001b[38;5;124m'\u001b[39m\u001b[38;5;124mConnection reset!\u001b[39m\u001b[38;5;124m'\u001b[39m)\n",
      "File \u001b[0;32m/opt/homebrew/Cellar/python@3.9/3.9.9/Frameworks/Python.framework/Versions/3.9/lib/python3.9/socket.py:704\u001b[0m, in \u001b[0;36mSocketIO.readinto\u001b[0;34m(self, b)\u001b[0m\n\u001b[1;32m    702\u001b[0m \u001b[38;5;28;01mwhile\u001b[39;00m \u001b[38;5;28;01mTrue\u001b[39;00m:\n\u001b[1;32m    703\u001b[0m     \u001b[38;5;28;01mtry\u001b[39;00m:\n\u001b[0;32m--> 704\u001b[0m         \u001b[38;5;28;01mreturn\u001b[39;00m \u001b[38;5;28;43mself\u001b[39;49m\u001b[38;5;241;43m.\u001b[39;49m\u001b[43m_sock\u001b[49m\u001b[38;5;241;43m.\u001b[39;49m\u001b[43mrecv_into\u001b[49m\u001b[43m(\u001b[49m\u001b[43mb\u001b[49m\u001b[43m)\u001b[49m\n\u001b[1;32m    705\u001b[0m     \u001b[38;5;28;01mexcept\u001b[39;00m timeout:\n\u001b[1;32m    706\u001b[0m         \u001b[38;5;28mself\u001b[39m\u001b[38;5;241m.\u001b[39m_timeout_occurred \u001b[38;5;241m=\u001b[39m \u001b[38;5;28;01mTrue\u001b[39;00m\n",
      "\u001b[0;31mKeyboardInterrupt\u001b[0m: "
     ]
    }
   ],
   "source": [
    "# Exercise 6\n",
    "\n",
    "import time\n",
    "\n",
    "from block import Block\n",
    "from bloomfilter import BloomFilter\n",
    "from ecc import PrivateKey\n",
    "from helper import hash256, little_endian_to_int, encode_varint, read_varint, decode_base58, SIGHASH_ALL\n",
    "from merkleblock import MerkleBlock\n",
    "from network import (\n",
    "    GetDataMessage,\n",
    "    GetHeadersMessage,\n",
    "    HeadersMessage,\n",
    "    NetworkEnvelope,\n",
    "    SimpleNode,\n",
    "    TX_DATA_TYPE,\n",
    "    FILTERED_BLOCK_DATA_TYPE,\n",
    ")\n",
    "from script import p2pkh_script, Script\n",
    "from tx import Tx, TxIn, TxOut\n",
    "\n",
    "last_block_hex = '000000000000002f2c75bbd3ad5569f9ff64a970e49797f0a87de1cf3a30b326'  # FILL THIS IN\n",
    "\n",
    "secret = little_endian_to_int(hash256(b''))# get this from local file 'testnet-passphrase.txt'\n",
    "private_key = PrivateKey(secret=secret)\n",
    "addr = private_key.point.address(testnet=True)\n",
    "h160 = decode_base58(addr)\n",
    "\n",
    "target_address = 'mwJn1YPMq7y5F8J3LkC5Hxg9PHyZ5K4cFv'\n",
    "target_h160 = decode_base58(target_address)\n",
    "target_script = p2pkh_script(target_h160)\n",
    "fee = 5000  # fee in satoshis\n",
    "\n",
    "# connect to testnet.programmingbitcoin.com in testnet mode\n",
    "node = SimpleNode('testnet.programmingbitcoin.com', testnet=True, logging=False)\n",
    "# create a bloom filter of size 30 and 5 functions. Add a tweak.\n",
    "bf = BloomFilter(size=30, function_count=5, tweak=89044)\n",
    "# add the h160 to the bloom filter\n",
    "bf.add(h160)\n",
    "# complete the handshake\n",
    "node.handshake()\n",
    "# load the bloom filter with the filterload command\n",
    "node.send(bf.filterload())\n",
    "\n",
    "# set start block to last_block from above\n",
    "start_block = bytes.fromhex(last_block_hex)\n",
    "# send a getheaders message with the starting block\n",
    "getheaders = GetHeadersMessage(start_block=start_block)\n",
    "node.send(getheaders)\n",
    "\n",
    "# wait for the headers message\n",
    "headers = node.wait_for(HeadersMessage)\n",
    "# store the last block as None\n",
    "last_block = None\n",
    "# initialize the GetDataMessage\n",
    "getdata = GetDataMessage()\n",
    "# loop through the blocks in the headers\n",
    "for b in headers.blocks:\n",
    "    # check that the proof of work on the block is valid\n",
    "    if not b.check_pow():\n",
    "        raise RuntimeError('proof of work is invalid')\n",
    "    # check that this block's prev_block is the last block\n",
    "    if last_block is not None and b.prev_block != last_block:\n",
    "        raise RuntimeError('chain broken')\n",
    "    getdata.add_data(FILTERED_BLOCK_DATA_TYPE, b.hash())\n",
    "    # add a new item to the get_data_message\n",
    "    # should be FILTERED_BLOCK_DATA_TYPE and block hash\n",
    "    # set the last block to the current hash\n",
    "    last_block = b.hash()\n",
    "# send the getdata message\n",
    "node.send(getdata)\n",
    "found = False\n",
    "# initialize prev_tx and prev_index to None\n",
    "prev_tx = None\n",
    "prev_index = None\n",
    "prev_amount = None\n",
    "# loop while prev_tx is None \n",
    "while prev_tx is None:\n",
    "    # wait for the merkleblock or tx commands\n",
    "    message = node.wait_for(MerkleBlock, Tx)\n",
    "    # if we have the merkleblock command\n",
    "    if message.command == b'merkleblock':\n",
    "        # check that the MerkleBlock is valid\n",
    "        if not message.is_valid():\n",
    "            raise RuntimeError('invalid merkle proof')\n",
    "    # else we have the tx command\n",
    "    else:\n",
    "      # set the tx's testnet to be True\n",
    "      message.testnet = True\n",
    "      # loop through the tx outs\n",
    "      for i, tx_out in enumerate(message.tx_outs):\n",
    "        # if our output has the same address as our address we found it\n",
    "        if tx_out.script_pubkey.address(testnet=True) == addr:\n",
    "            # we found our utxo; set prev_tx, prev_index, and tx\n",
    "            prev_tx = message.hash()\n",
    "            prev_index = i\n",
    "            prev_amount = tx_out.amount\n",
    "            print('found: {}:{}'.format(prev_tx.hex(), prev_index))\n",
    "# create the TxIn\n",
    "tx_in = TxIn(prev_tx, prev_index)\n",
    "# calculate the output amount (previous amount minus the fee)\n",
    "output_amount = prev_amount - fee\n",
    "# create a new TxOut to the target script with the output amount\n",
    "tx_out = TxOut(output_amount, target_script)\n",
    "# create a new transaction with the one input and one output\n",
    "tx_obj = Tx(1, [tx_in], [tx_out], 0, testnet=True)\n",
    "# sign the only input of the transaction\n",
    "print(tx_obj.sign_input(0, private_key))\n",
    "# serialize and hex to see what it looks like\n",
    "print(tx_obj.serialize().hex())\n",
    "# send this signed transaction on the network\n",
    "node.send(tx_obj)\n",
    "print('transaction sent on the network')\n",
    "# wait a sec so this message goes through with time.sleep(1)\n",
    "time.sleep(1)\n",
    "# now ask for this transaction from the other node\n",
    "# create a GetDataMessage\n",
    "getdata = GetDataMessage()\n",
    "# ask for our transaction by adding it to the message\n",
    "getdata.add_data(TX_DATA_TYPE, tx_obj.hash())\n",
    "# send the message\n",
    "node.send(getdata)\n",
    "# now wait for a Tx response\n",
    "received_tx = node.wait_for(Tx)\n",
    "# if the received tx has the same id as our tx, we are done!\n",
    "if received_tx.id() == tx_obj.id():\n",
    "    print('success!')"
   ]
  },
  {
   "cell_type": "code",
   "execution_count": null,
   "metadata": {},
   "outputs": [
    {
     "name": "stdout",
     "output_type": "stream",
     "text": [
      "connecting...\n",
      "tx parsed\n",
      "waiting for response...\n"
     ]
    }
   ],
   "source": [
    "# Exercise 6\n",
    "# didn't get 'success' message on above so this script re-connects to the node to verify the transaction is recorded\n",
    "\n",
    "import time\n",
    "from io import BytesIO\n",
    "\n",
    "from block import Block\n",
    "from bloomfilter import BloomFilter\n",
    "from ecc import PrivateKey\n",
    "from helper import hash256, little_endian_to_int, encode_varint, read_varint, decode_base58, SIGHASH_ALL\n",
    "from merkleblock import MerkleBlock\n",
    "from network import (\n",
    "    GetDataMessage,\n",
    "    GetHeadersMessage,\n",
    "    HeadersMessage,\n",
    "    NetworkEnvelope,\n",
    "    SimpleNode,\n",
    "    TX_DATA_TYPE,\n",
    "    FILTERED_BLOCK_DATA_TYPE,\n",
    ")\n",
    "from script import p2pkh_script, Script\n",
    "from tx import Tx, TxIn, TxOut\n",
    "\n",
    "# connect to testnet.programmingbitcoin.com in testnet mode\n",
    "print('connecting...')\n",
    "node = SimpleNode('testnet.programmingbitcoin.com', testnet=True, logging=False)\n",
    "node.handshake()\n",
    "tx_obj = Tx.parse(BytesIO(bytes.fromhex('0100000001ff897bffd6a87fc51bfe658baccc5575922bf513e8b33428493a7970428d8e50010000006b483045022100bff516ed1c1bb6ca77c51028834786e6e21ba8ba3c5be75a130db32e277ae61e02205210f77905549d4ab8c003ecbee56c8cd495db75ff7b8144ea78b9e9ec7234cc012102f84ccc50f407e61ec0088cd6ceca8aa4dbc704033159f49a8f339a7a3c2328baffffffff0188130000000000001976a914ad346f8eb57dee9a37981716e498120ae80e44f788ac00000000')))\n",
    "print('tx parsed')\n",
    "# now ask for this transaction from the other node\n",
    "# create a GetDataMessage\n",
    "getdata = GetDataMessage()\n",
    "# ask for our transaction by adding it to the message\n",
    "getdata.add_data(TX_DATA_TYPE, tx_obj.hash())\n",
    "# send the message\n",
    "node.send(getdata)\n",
    "print('waiting for response...')\n",
    "# now wait for a Tx response\n",
    "received_tx = node.wait_for(Tx)\n",
    "# if the received tx has the same id as our tx, we are done!\n",
    "if received_tx.id() == tx_obj.id():\n",
    "    print('success!')\n",
    "else:\n",
    "    print('failure')"
   ]
  },
  {
   "cell_type": "code",
   "execution_count": null,
   "metadata": {},
   "outputs": [],
   "source": []
  }
 ],
 "metadata": {
  "kernelspec": {
   "display_name": "Python 3 (ipykernel)",
   "language": "python",
   "name": "python3"
  },
  "language_info": {
   "codemirror_mode": {
    "name": "ipython",
    "version": 3
   },
   "file_extension": ".py",
   "mimetype": "text/x-python",
   "name": "python",
   "nbconvert_exporter": "python",
   "pygments_lexer": "ipython3",
   "version": "3.9.9"
  }
 },
 "nbformat": 4,
 "nbformat_minor": 2
}
