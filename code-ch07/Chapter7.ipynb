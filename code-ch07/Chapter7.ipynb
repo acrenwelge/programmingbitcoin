{
 "cells": [
  {
   "cell_type": "code",
   "execution_count": 1,
   "metadata": {},
   "outputs": [],
   "source": [
    "############## PLEASE RUN THIS CELL FIRST! ###################\n",
    "\n",
    "# import everything and define a test runner function\n",
    "from importlib import reload\n",
    "from helper import run\n",
    "import ecc\n",
    "import helper\n",
    "import tx\n",
    "import script"
   ]
  },
  {
   "cell_type": "code",
   "execution_count": 2,
   "metadata": {},
   "outputs": [
    {
     "name": "stdout",
     "output_type": "stream",
     "text": [
      "True\n"
     ]
    }
   ],
   "source": [
    "from tx import Tx\n",
    "from io import BytesIO\n",
    "raw_tx = ('0100000001813f79011acb80925dfe69b3def355fe914bd1d96a3f5f71bf8303c6a989c7d1000000006b483045022100ed81ff192e75a3fd2304004dcadb746fa5e24c5031ccfcf21320b0277457c98f02207a986d955c6e0cb35d446a89d3f56100f4d7f67801c31967743a9c8e10615bed01210349fc4e631e3624a545de3f89f5d8684c7b8138bd94bdd531d2e213bf016b278afeffffff02a135ef01000000001976a914bc3b654dca7e56b04dca18f2566cdaf02e8d9ada88ac99c39800000000001976a9141c4bc762dd5423e332166702cb75f40df79fea1288ac19430600')\n",
    "stream = BytesIO(bytes.fromhex(raw_tx))\n",
    "transaction = Tx.parse(stream)\n",
    "print(transaction.fee() >= 0)"
   ]
  },
  {
   "cell_type": "code",
   "execution_count": 3,
   "metadata": {},
   "outputs": [
    {
     "name": "stdout",
     "output_type": "stream",
     "text": [
      "True\n"
     ]
    }
   ],
   "source": [
    "from ecc import S256Point, Signature\n",
    "sec = bytes.fromhex('0349fc4e631e3624a545de3f89f5d8684c7b8138bd94bdd531d2e213bf016b278a')\n",
    "der = bytes.fromhex('3045022100ed81ff192e75a3fd2304004dcadb746fa5e24c5031ccfcf21320b0277457c98f02207a986d955c6e0cb35d446a89d3f56100f4d7f67801c31967743a9c8e10615bed')\n",
    "z = 0x27e0c5994dec7824e56dec6b2fcb342eb7cdb0d0957c2fce9882f715e85d81a6\n",
    "point = S256Point.parse(sec)\n",
    "signature = Signature.parse(der)\n",
    "print(point.verify(z, signature))"
   ]
  },
  {
   "cell_type": "code",
   "execution_count": 4,
   "metadata": {},
   "outputs": [
    {
     "name": "stdout",
     "output_type": "stream",
     "text": [
      "0x27e0c5994dec7824e56dec6b2fcb342eb7cdb0d0957c2fce9882f715e85d81a6\n"
     ]
    }
   ],
   "source": [
    "from helper import hash256\n",
    "modified_tx = bytes.fromhex('0100000001813f79011acb80925dfe69b3def355fe914bd1d96a3f5f71bf8303c6a989c7d1000000001976a914a802fc56c704ce87c42d7c92eb75e7896bdc41ae88acfeffffff02a135ef01000000001976a914bc3b654dca7e56b04dca18f2566cdaf02e8d9ada88ac99c39800000000001976a9141c4bc762dd5423e332166702cb75f40df79fea1288ac1943060001000000')\n",
    "h256 = hash256(modified_tx)\n",
    "z = int.from_bytes(h256, 'big')\n",
    "print(hex(z))"
   ]
  },
  {
   "cell_type": "code",
   "execution_count": 5,
   "metadata": {},
   "outputs": [
    {
     "data": {
      "text/plain": [
       "True"
      ]
     },
     "execution_count": 5,
     "metadata": {},
     "output_type": "execute_result"
    }
   ],
   "source": [
    "from ecc import S256Point, Signature\n",
    "sec = bytes.fromhex('0349fc4e631e3624a545de3f89f5d8684c7b8138bd94bdd531d2e213bf016b278a')\n",
    "der = bytes.fromhex('3045022100ed81ff192e75a3fd2304004dcadb746fa5e24c5031ccfcf21320b0277457c98f02207a986d955c6e0cb35d446a89d3f56100f4d7f67801c31967743a9c8e10615bed')\n",
    "z = 0x27e0c5994dec7824e56dec6b2fcb342eb7cdb0d0957c2fce9882f715e85d81a6\n",
    "point = S256Point.parse(sec)\n",
    "signature = Signature.parse(der)\n",
    "point.verify(z, signature)"
   ]
  },
  {
   "cell_type": "markdown",
   "metadata": {},
   "source": [
    "### Exercise 1\n",
    "\n",
    "Write the `sig_hash` method for the `Tx` class.\n",
    "\n",
    "#### Make [this test](/edit/code-ch07/tx.py) pass: `tx.py:TxTest:test_sig_hash`"
   ]
  },
  {
   "cell_type": "code",
   "execution_count": 16,
   "metadata": {},
   "outputs": [
    {
     "name": "stderr",
     "output_type": "stream",
     "text": [
      ".\n",
      "----------------------------------------------------------------------\n",
      "Ran 1 test in 0.005s\n",
      "\n",
      "OK\n"
     ]
    }
   ],
   "source": [
    "# Exercise 1\n",
    "\n",
    "reload(tx)\n",
    "run(tx.TxTest(\"test_sig_hash\"))"
   ]
  },
  {
   "cell_type": "markdown",
   "metadata": {},
   "source": [
    "### Exercise 2\n",
    "\n",
    "Write the `verify_input` method for the `Tx` class. You will want to use the `TxIn.script_pubkey()`, `Tx.sig_hash()` and `Script.evaluate()` methods.\n",
    "\n",
    "#### Make [this test](/edit/code-ch07/tx.py) pass: `tx.py:TxTest:test_verify_p2pkh`"
   ]
  },
  {
   "cell_type": "code",
   "execution_count": 18,
   "metadata": {},
   "outputs": [
    {
     "name": "stderr",
     "output_type": "stream",
     "text": [
      ".\n",
      "----------------------------------------------------------------------\n",
      "Ran 1 test in 0.280s\n",
      "\n",
      "OK\n"
     ]
    }
   ],
   "source": [
    "# Exercise 2\n",
    "\n",
    "reload(tx)\n",
    "run(tx.TxTest(\"test_verify_p2pkh\"))"
   ]
  },
  {
   "cell_type": "code",
   "execution_count": 19,
   "metadata": {},
   "outputs": [
    {
     "name": "stdout",
     "output_type": "stream",
     "text": [
      "tx: cd30a8da777d28ef0e61efe68a9f7c559c1d3e5bcd7b265c850ccb4068598d11\n",
      "version: 1\n",
      "tx_ins:\n",
      "0d6fe5213c0b3291f208cba8bfb59b7476dffacc4e5cb66f6eb20a080843a299:13\n",
      "tx_outs:\n",
      "33000000:OP_DUP OP_HASH160 d52ad7ca9b3d096a38e752c2018e6fbc40cdf26f OP_EQUALVERIFY OP_CHECKSIG\n",
      "10000000:OP_DUP OP_HASH160 507b27411ccf7f16f10297de6cef3f291623eddf OP_EQUALVERIFY OP_CHECKSIG\n",
      "locktime: 0\n"
     ]
    }
   ],
   "source": [
    "from helper import decode_base58, SIGHASH_ALL\n",
    "from script import p2pkh_script, Script\n",
    "from tx import TxIn, TxOut, Tx\n",
    "prev_tx = bytes.fromhex('0d6fe5213c0b3291f208cba8bfb59b7476dffacc4e5cb66f6eb20a080843a299')\n",
    "prev_index = 13\n",
    "tx_in = TxIn(prev_tx, prev_index)\n",
    "tx_outs = []\n",
    "change_amount = int(0.33*100000000)\n",
    "change_h160 = decode_base58('mzx5YhAH9kNHtcN481u6WkjeHjYtVeKVh2')\n",
    "change_script = p2pkh_script(change_h160)\n",
    "change_output = TxOut(amount=change_amount, script_pubkey=change_script)\n",
    "target_amount = int(0.1*100000000)\n",
    "target_h160 = decode_base58('mnrVtF8DWjMu839VW3rBfgYaAfKk8983Xf')\n",
    "target_script = p2pkh_script(target_h160)\n",
    "target_output = TxOut(amount=target_amount, script_pubkey=target_script)\n",
    "tx_obj = Tx(1, [tx_in], [change_output, target_output], 0, True)\n",
    "print(tx_obj)"
   ]
  },
  {
   "cell_type": "code",
   "execution_count": 20,
   "metadata": {},
   "outputs": [
    {
     "ename": "NotImplementedError",
     "evalue": "",
     "output_type": "error",
     "traceback": [
      "\u001b[0;31m---------------------------------------------------------------------------\u001b[0m",
      "\u001b[0;31mNotImplementedError\u001b[0m                       Traceback (most recent call last)",
      "Input \u001b[0;32mIn [20]\u001b[0m, in \u001b[0;36m<cell line: 3>\u001b[0;34m()\u001b[0m\n\u001b[1;32m      1\u001b[0m \u001b[38;5;28;01mfrom\u001b[39;00m \u001b[38;5;21;01mecc\u001b[39;00m \u001b[38;5;28;01mimport\u001b[39;00m PrivateKey\n\u001b[1;32m      2\u001b[0m \u001b[38;5;28;01mfrom\u001b[39;00m \u001b[38;5;21;01mhelper\u001b[39;00m \u001b[38;5;28;01mimport\u001b[39;00m SIGHASH_ALL\n\u001b[0;32m----> 3\u001b[0m z \u001b[38;5;241m=\u001b[39m \u001b[43mtransaction\u001b[49m\u001b[38;5;241;43m.\u001b[39;49m\u001b[43msig_hash\u001b[49m\u001b[43m(\u001b[49m\u001b[38;5;241;43m0\u001b[39;49m\u001b[43m)\u001b[49m\n\u001b[1;32m      4\u001b[0m private_key \u001b[38;5;241m=\u001b[39m PrivateKey(secret\u001b[38;5;241m=\u001b[39m\u001b[38;5;241m8675309\u001b[39m)\n\u001b[1;32m      5\u001b[0m der \u001b[38;5;241m=\u001b[39m private_key\u001b[38;5;241m.\u001b[39msign(z)\u001b[38;5;241m.\u001b[39mder()\n",
      "File \u001b[0;32m~/Code/programmingbitcoin/code-ch07/tx.py:177\u001b[0m, in \u001b[0;36mTx.sig_hash\u001b[0;34m(self, input_index)\u001b[0m\n\u001b[1;32m    161\u001b[0m \u001b[38;5;124;03m'''Returns the integer representation of the hash that needs to get\u001b[39;00m\n\u001b[1;32m    162\u001b[0m \u001b[38;5;124;03msigned for index input_index'''\u001b[39;00m\n\u001b[1;32m    163\u001b[0m \u001b[38;5;66;03m# start the serialization with version\u001b[39;00m\n\u001b[1;32m    164\u001b[0m \u001b[38;5;66;03m# use int_to_little_endian in 4 bytes\u001b[39;00m\n\u001b[1;32m    165\u001b[0m \u001b[38;5;66;03m# add how many inputs there are using encode_varint\u001b[39;00m\n\u001b[0;32m   (...)\u001b[0m\n\u001b[1;32m    175\u001b[0m \u001b[38;5;66;03m# hash256 the serialization\u001b[39;00m\n\u001b[1;32m    176\u001b[0m \u001b[38;5;66;03m# convert the result to an integer using int.from_bytes(x, 'big')\u001b[39;00m\n\u001b[0;32m--> 177\u001b[0m s \u001b[38;5;241m=\u001b[39m int_to_little_endian(\u001b[38;5;28mself\u001b[39m\u001b[38;5;241m.\u001b[39mversion, \u001b[38;5;241m4\u001b[39m)\n\u001b[1;32m    178\u001b[0m s \u001b[38;5;241m+\u001b[39m\u001b[38;5;241m=\u001b[39m encode_varint(\u001b[38;5;28mlen\u001b[39m(\u001b[38;5;28mself\u001b[39m\u001b[38;5;241m.\u001b[39mtx_ins))\n\u001b[1;32m    179\u001b[0m \u001b[38;5;28;01mfor\u001b[39;00m i, tx_in \u001b[38;5;129;01min\u001b[39;00m \u001b[38;5;28menumerate\u001b[39m(\u001b[38;5;28mself\u001b[39m\u001b[38;5;241m.\u001b[39mtx_ins):\n",
      "\u001b[0;31mNotImplementedError\u001b[0m: "
     ]
    }
   ],
   "source": [
    "from ecc import PrivateKey\n",
    "from helper import SIGHASH_ALL\n",
    "z = transaction.sig_hash(0)\n",
    "private_key = PrivateKey(secret=8675309)\n",
    "der = private_key.sign(z).der()\n",
    "sig = der + SIGHASH_ALL.to_bytes(1, 'big')\n",
    "sec = private_key.point.sec()\n",
    "script_sig = Script([sig, sec])\n",
    "transaction.tx_ins[0].script_sig = script_sig \n",
    "print(transaction.serialize().hex())"
   ]
  },
  {
   "cell_type": "code",
   "execution_count": 23,
   "metadata": {},
   "outputs": [
    {
     "name": "stdout",
     "output_type": "stream",
     "text": [
      "mn81594PzKZa9K3Jyy1ushpuEzrnTnxhVg\n"
     ]
    }
   ],
   "source": [
    "from ecc import PrivateKey\n",
    "from helper import hash256, little_endian_to_int\n",
    "secret = little_endian_to_int(hash256(b'Jimmy Song secret'))\n",
    "private_key = PrivateKey(secret)\n",
    "print(private_key.point.address(testnet=True))"
   ]
  },
  {
   "cell_type": "markdown",
   "metadata": {},
   "source": [
    "### Exercise 3\n",
    "\n",
    "Write the `sign_input` method for the `Tx` class.\n",
    "\n",
    "#### Make [this test](/edit/code-ch07/tx.py) pass: `tx.py:TxTest:test_sign_input`"
   ]
  },
  {
   "cell_type": "code",
   "execution_count": 29,
   "metadata": {},
   "outputs": [
    {
     "name": "stderr",
     "output_type": "stream",
     "text": [
      ".\n",
      "----------------------------------------------------------------------\n",
      "Ran 1 test in 0.235s\n",
      "\n",
      "OK\n"
     ]
    }
   ],
   "source": [
    "# Exercise 3\n",
    "\n",
    "reload(tx)\n",
    "run(tx.TxTest(\"test_sign_input\"))"
   ]
  },
  {
   "cell_type": "markdown",
   "metadata": {},
   "source": [
    "### Exercise 4\n",
    "\n",
    "Create a testnet transaction that sends 60% of a single UTXO to `mwJn1YPMq7y5F8J3LkC5Hxg9PHyZ5K4cFv`. The remaining amount minus fees should go back to your own change address. This should be a 1 input, 2 output transaction.\n",
    "\n",
    "You can broadcast the transaction at https://testnet.blockchain.info/pushtx"
   ]
  },
  {
   "cell_type": "code",
   "execution_count": 30,
   "metadata": {},
   "outputs": [
    {
     "name": "stdout",
     "output_type": "stream",
     "text": [
      "True\n",
      "0100000001148508d4c88d360bf2fe018318f7acf29f1d5f4d4f277a44416448a1cd46bd33000000006a4730440220790627161b93e4c46fffd0c8c9666676915c14a330908e614034bcccb6c4ea7b0220273e53c7586cc7510ec8732a47cd8936f28b25244260db3de3542007078449b5012102f84ccc50f407e61ec0088cd6ceca8aa4dbc704033159f49a8f339a7a3c2328baffffffff0270170000000000001976a914ad346f8eb57dee9a37981716e498120ae80e44f788acb80b0000000000001976a914910369be8e99c0a842ff3499b6bc13041c2ccf1088ac00000000\n"
     ]
    }
   ],
   "source": [
    "# Exercise 4\n",
    "\n",
    "from ecc import PrivateKey\n",
    "from helper import decode_base58, SIGHASH_ALL, hash256, little_endian_to_int\n",
    "from script import p2pkh_script, Script\n",
    "from tx import TxIn, TxOut, Tx\n",
    "\n",
    "# create 1 TxIn and 2 TxOuts\n",
    "# 1 of the TxOuts should be back to your address\n",
    "# the other TxOut should be to this address\n",
    "target_address = 'mwJn1YPMq7y5F8J3LkC5Hxg9PHyZ5K4cFv'\n",
    "utxo_amount = 0.0001\n",
    "# target amount should be 60% of the output amount\n",
    "target_amount = utxo_amount*0.6\n",
    "\n",
    "# get the private key from the exercise in Chapter 4\n",
    "# change address should be the address generated from Chapter 4\n",
    "passphrase = b'' # get this from local file 'testnet-passphrase.txt'\n",
    "secret = little_endian_to_int(hash256(passphrase))\n",
    "priv_key = PrivateKey(secret)\n",
    "change_address = priv_key.point.address(compressed=True,testnet=True)\n",
    "# change amount = amount from the prev tx - target amount - fee\n",
    "change_amount = (utxo_amount*0.3) # fee = 10%, change = 30%\n",
    "\n",
    "# get the prev_tx and prev_index from the transaction where you got some testnet coins\n",
    "prev_tx = bytes.fromhex('33bd46cda1486441447a274f4d5f1d9ff2acf7188301fef20b368dc8d4088514')\n",
    "prev_index = 0\n",
    "tx_ins = []\n",
    "tx_ins.append(TxIn(prev_tx,prev_index))\n",
    "tx_outs = []\n",
    "\n",
    "# create a transaction input for the previous transaction with the default ScriptSig and sequence\n",
    "h160 = decode_base58(target_address)\n",
    "script_pubkey = p2pkh_script(h160)\n",
    "target_satoshis = int(target_amount*100000000)\n",
    "tx_outs.append(TxOut(target_satoshis, script_pubkey))\n",
    "h160 = decode_base58(change_address)\n",
    "script_pubkey = p2pkh_script(h160)\n",
    "change_satoshis = int(change_amount*100000000)\n",
    "tx_outs.append(TxOut(change_satoshis, script_pubkey))\n",
    "tx_obj = Tx(1, tx_ins, tx_outs, 0, testnet=True)\n",
    "print(tx_obj.sign_input(0, priv_key))\n",
    "print(tx_obj.serialize().hex())\n",
    "\n",
    "# create a transaction output for the target amount and address\n",
    "# create a transaction output for the change amount and address\n",
    "# create the transaction object\n",
    "\n",
    "# sign the one input in the transaction object using the private key\n",
    "# print the transaction's serialization in hex\n",
    "# broadcast at http://testnet.blockchain.info/pushtx"
   ]
  },
  {
   "cell_type": "markdown",
   "metadata": {},
   "source": [
    "### Exercise 5\n",
    "\n",
    "Advanced: get some more testnet coins from a testnet faucet and create a 2 input, 1 output transaction. 1 input should be from the faucet, the other should be from the previous exercise, the output can be your own address.\n",
    "\n",
    "You can broadcast the transaction at https://testnet.blockchain.info/pushtx"
   ]
  },
  {
   "cell_type": "code",
   "execution_count": 33,
   "metadata": {},
   "outputs": [
    {
     "name": "stdout",
     "output_type": "stream",
     "text": [
      "True\n",
      "True\n",
      "010000000268b09c0db4df92510721cf8ec5bcf111a3d9cd8100d64482e00683d6bc47f902010000006a47304402205f22babc15088d35efa819166d9c6dfaf3792f38bf2d7ab9057a0c1831ea721102205b9741c4c9e06187e1fffd494eb06eaf1062bdee3ab83c33995b4e1eea86384a012102f84ccc50f407e61ec0088cd6ceca8aa4dbc704033159f49a8f339a7a3c2328baffffffffe4a58d98f01ab4e7356caa8bcf02a0752bf76da4fb560499d56aa868eec9a2ce000000006a47304402202b3d85fc1136b50b9fcfba2f81addfb2d1de94dc715d552f84888c2ae6ab665c02201999c782e9286345a5802e708e9c370f78ae8dec1563fbfc130b56f11eea95ac012102f84ccc50f407e61ec0088cd6ceca8aa4dbc704033159f49a8f339a7a3c2328baffffffff01b42d0000000000001976a914910369be8e99c0a842ff3499b6bc13041c2ccf1088ac00000000\n"
     ]
    }
   ],
   "source": [
    "# Exercise 5\n",
    "\n",
    "from ecc import PrivateKey\n",
    "from helper import decode_base58, SIGHASH_ALL\n",
    "from script import p2pkh_script, Script\n",
    "from tx import TxIn, TxOut, Tx\n",
    "\n",
    "# Create 2 TxIns, 1 from the Exercise 4 and 1 from a testnet faucet\n",
    "# Creat 1 TxOut to the address above\n",
    "\n",
    "# get the private key from the exercise in Chapter 4\n",
    "passphrase = b'' # get this from local file 'testnet-passphrase.txt\n",
    "secret = little_endian_to_int(hash256(passphrase))\n",
    "priv_key = PrivateKey(secret)\n",
    "output_address = priv_key.point.address(compressed=True,testnet=True)\n",
    "\n",
    "tx_ins = []\n",
    "tx_outs = []\n",
    "# get the prev_tx and prev_index from the transaction where you got some testnet coins\n",
    "# create the first transaction input with the default ScriptSig and sequence\n",
    "prev_tx_1 = bytes.fromhex('02f947bcd68306e08244d60081cdd9a311f1bcc58ecf21075192dfb40d9cb068')\n",
    "prev_idx_1 = 1\n",
    "tx1 = TxIn(prev_tx_1,prev_idx_1)\n",
    "tx_ins.append(tx1)\n",
    "\n",
    "# get the prev_tx and prev_index from the transaction in Exercise 4\n",
    "# create the second transaction input with the default ScriptSig and sequence\n",
    "prev_tx_2 = bytes.fromhex('cea2c9ee68a86ad5990456fba46df72b75a002cf8baa6c35e7b41af0988da5e4')\n",
    "prev_idx_2 = 0\n",
    "tx2 = TxIn(prev_tx_2,prev_idx_2)\n",
    "tx_ins.append(tx2)\n",
    "\n",
    "# set the fee to some reasonable amount\n",
    "# target amount should be the sum of the inputs - fee\n",
    "target_amount = 0.00013 * 0.9 # 10% fee\n",
    "h160 = decode_base58(output_address)\n",
    "script_pubkey = p2pkh_script(h160)\n",
    "target_satoshis = int(target_amount*100000000)\n",
    "\n",
    "# create a transaction output for the amount and address\n",
    "tx_outs = []\n",
    "tx_outs.append(TxOut(target_satoshis, script_pubkey))\n",
    "tx_obj = Tx(1, tx_ins, tx_outs, 0, testnet=True)\n",
    "\n",
    "# sign the first input using the private key\n",
    "print(tx_obj.sign_input(0, priv_key))\n",
    "# sign the second input using the private key \n",
    "print(tx_obj.sign_input(1, priv_key))\n",
    "# print the transaction's serialization in hex\n",
    "print(tx_obj.serialize().hex())\n",
    "\n",
    "# broadcast at http://testnet.blockchain.info/pushtx"
   ]
  },
  {
   "cell_type": "code",
   "execution_count": null,
   "metadata": {},
   "outputs": [],
   "source": []
  }
 ],
 "metadata": {
  "kernelspec": {
   "display_name": "Python 3 (ipykernel)",
   "language": "python",
   "name": "python3"
  },
  "language_info": {
   "codemirror_mode": {
    "name": "ipython",
    "version": 3
   },
   "file_extension": ".py",
   "mimetype": "text/x-python",
   "name": "python",
   "nbconvert_exporter": "python",
   "pygments_lexer": "ipython3",
   "version": "3.9.9"
  }
 },
 "nbformat": 4,
 "nbformat_minor": 2
}
